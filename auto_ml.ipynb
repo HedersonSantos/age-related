{
  "nbformat": 4,
  "nbformat_minor": 0,
  "metadata": {
    "colab": {
      "provenance": [],
      "authorship_tag": "ABX9TyOVS/ECEpwut5SByrYPyyQI",
      "include_colab_link": true
    },
    "kernelspec": {
      "name": "python3",
      "display_name": "Python 3"
    },
    "language_info": {
      "name": "python"
    }
  },
  "cells": [
    {
      "cell_type": "markdown",
      "metadata": {
        "id": "view-in-github",
        "colab_type": "text"
      },
      "source": [
        "<a href=\"https://colab.research.google.com/github/HedersonSantos/age-related/blob/main/auto_ml.ipynb\" target=\"_parent\"><img src=\"https://colab.research.google.com/assets/colab-badge.svg\" alt=\"Open In Colab\"/></a>"
      ]
    },
    {
      "cell_type": "code",
      "source": [
        "#!pip install h2o"
      ],
      "metadata": {
        "colab": {
          "base_uri": "https://localhost:8080/"
        },
        "id": "5H63qgbs5R9Z",
        "outputId": "f4622aad-da61-4280-b6e8-119c9c03fba4"
      },
      "execution_count": 7,
      "outputs": [
        {
          "output_type": "stream",
          "name": "stdout",
          "text": [
            "Looking in indexes: https://pypi.org/simple, https://us-python.pkg.dev/colab-wheels/public/simple/\n",
            "Collecting h2o\n",
            "  Downloading h2o-3.40.0.4.tar.gz (177.6 MB)\n",
            "\u001b[2K     \u001b[90m━━━━━━━━━━━━━━━━━━━━━━━━━━━━━━━━━━━━━━━\u001b[0m \u001b[32m177.6/177.6 MB\u001b[0m \u001b[31m6.1 MB/s\u001b[0m eta \u001b[36m0:00:00\u001b[0m\n",
            "\u001b[?25h  Preparing metadata (setup.py) ... \u001b[?25l\u001b[?25hdone\n",
            "Requirement already satisfied: requests in /usr/local/lib/python3.10/dist-packages (from h2o) (2.27.1)\n",
            "Requirement already satisfied: tabulate in /usr/local/lib/python3.10/dist-packages (from h2o) (0.8.10)\n",
            "Requirement already satisfied: future in /usr/local/lib/python3.10/dist-packages (from h2o) (0.18.3)\n",
            "Requirement already satisfied: urllib3<1.27,>=1.21.1 in /usr/local/lib/python3.10/dist-packages (from requests->h2o) (1.26.15)\n",
            "Requirement already satisfied: certifi>=2017.4.17 in /usr/local/lib/python3.10/dist-packages (from requests->h2o) (2022.12.7)\n",
            "Requirement already satisfied: charset-normalizer~=2.0.0 in /usr/local/lib/python3.10/dist-packages (from requests->h2o) (2.0.12)\n",
            "Requirement already satisfied: idna<4,>=2.5 in /usr/local/lib/python3.10/dist-packages (from requests->h2o) (3.4)\n",
            "Building wheels for collected packages: h2o\n",
            "  Building wheel for h2o (setup.py) ... \u001b[?25l\u001b[?25hdone\n",
            "  Created wheel for h2o: filename=h2o-3.40.0.4-py2.py3-none-any.whl size=177697886 sha256=7f2d5a2b6de9dca253389b39339b771edc9d990a59f02a55a82e6b1fa2d0c88e\n",
            "  Stored in directory: /root/.cache/pip/wheels/43/f2/b0/5bb4d702a0467e82d77c45088db3eef25114c26b0eec8e7f6a\n",
            "Successfully built h2o\n",
            "Installing collected packages: h2o\n",
            "Successfully installed h2o-3.40.0.4\n"
          ]
        }
      ]
    },
    {
      "cell_type": "code",
      "execution_count": 5,
      "metadata": {
        "colab": {
          "base_uri": "https://localhost:8080/"
        },
        "id": "ZkAB4KPV1i8o",
        "outputId": "a0606dd2-1d07-492d-af76-571f249727b2"
      },
      "outputs": [
        {
          "output_type": "stream",
          "name": "stdout",
          "text": [
            "--2023-05-23 23:05:06--  https://raw.githubusercontent.com/HedersonSantos/age-related/main/tree_features%20.csv\n",
            "Resolving raw.githubusercontent.com (raw.githubusercontent.com)... 185.199.108.133, 185.199.109.133, 185.199.110.133, ...\n",
            "Connecting to raw.githubusercontent.com (raw.githubusercontent.com)|185.199.108.133|:443... connected.\n",
            "HTTP request sent, awaiting response... 200 OK\n",
            "Length: 112543 (110K) [text/plain]\n",
            "Saving to: ‘tree_features .csv’\n",
            "\n",
            "\rtree_features .csv    0%[                    ]       0  --.-KB/s               \rtree_features .csv  100%[===================>] 109.91K  --.-KB/s    in 0.004s  \n",
            "\n",
            "2023-05-23 23:05:06 (27.6 MB/s) - ‘tree_features .csv’ saved [112543/112543]\n",
            "\n"
          ]
        }
      ],
      "source": [
        "#!wget https://raw.githubusercontent.com/HedersonSantos/age-related/main/tree_features\\ .csv\n",
        "#!mv tree_features\\ .csv tree_features.csv"
      ]
    },
    {
      "cell_type": "code",
      "source": [
        "import pandas as pd\n"
      ],
      "metadata": {
        "colab": {
          "base_uri": "https://localhost:8080/"
        },
        "id": "hGVQpu2g3MVw",
        "outputId": "18c5ef20-b1cd-425b-8607-568dd9bdbf01"
      },
      "execution_count": 1,
      "outputs": [
        {
          "output_type": "stream",
          "name": "stdout",
          "text": [
            "autosklearn: 0.15.0\n"
          ]
        }
      ]
    },
    {
      "cell_type": "code",
      "source": [
        "df = pd.read_csv('tree_features.csv', header=0)\n",
        "df.head(10)"
      ],
      "metadata": {
        "id": "GpOi0Fxr3lEQ",
        "outputId": "ed68e0e8-8ec1-4ad1-beff-49279b7d2c7a",
        "colab": {
          "base_uri": "https://localhost:8080/",
          "height": 427
        }
      },
      "execution_count": 2,
      "outputs": [
        {
          "output_type": "execute_result",
          "data": {
            "text/plain": [
              "         AB          AF          BC          BQ        CC        CR        DA  \\\n",
              "0  0.209377  3109.03329    5.555634  152.707705  0.563481  0.069225  69.08340   \n",
              "1  0.145282   978.76416    1.229900   14.754720  0.484710  1.117800  70.79836   \n",
              "2  0.470030  2635.10654    1.229900  219.320160  0.495852  0.700350  70.81970   \n",
              "3  0.252107  3819.65177    1.229900   11.050410  0.717882  0.636075  47.27586   \n",
              "4  0.380297  3733.04844  102.151980  149.717165  0.536467  0.693150  74.06532   \n",
              "5  0.209377  2615.81430    1.229900   16.526120  0.639460  0.857625  55.22404   \n",
              "6  0.348249  1733.65412    1.229900  344.644105  0.946323  0.610950  19.21570   \n",
              "7  0.269199   966.45483    1.229900    6.199900  0.771909  1.109625  63.21684   \n",
              "8  0.346113  3238.43674    3.626448   61.642115  0.855496  1.050375  76.77356   \n",
              "9  0.324748  5188.68207    1.229900  107.276505  0.718271  0.711712  31.17774   \n",
              "\n",
              "           DE        DH          DI        DU        EE        EH        FD   \\\n",
              "0  295.570575  0.284232   89.245560  5.310690  1.987283  0.949104  10.265073   \n",
              "1  178.553100  0.363489  110.581815  0.005518  0.858603  0.003042   0.296850   \n",
              "2  321.426625  0.210441  120.056438  1.289739  8.146651  0.377208   8.745201   \n",
              "3  196.607985  0.292431  139.824570  2.655345  3.813326  0.614484   7.884336   \n",
              "4  200.178160  0.207708   97.920120  1.144902  3.490846  0.164268   4.274640   \n",
              "5  135.489250  0.478275  135.317865  0.005518  2.394414  0.003042   0.296850   \n",
              "6  107.907985  0.460510  176.625563  1.006962  2.620150  0.097344   1.460502   \n",
              "7  326.225295  0.325227   83.769368  2.117379  3.277203  0.292032   4.518057   \n",
              "8  231.134460  0.330693  131.349555  0.613833  1.342323  0.066924   1.389258   \n",
              "9  403.247940  0.351191  129.175267  0.005518  3.658132  0.003042   0.296850   \n",
              "\n",
              "             FE         FI        FL        FR         GL  Class  \n",
              "0   9028.291921   3.583450  7.298162   1.73855   0.120343      1  \n",
              "1   6785.003474  10.358927  0.173229   0.49706  21.978000      0  \n",
              "2   8338.906181  11.626917  7.709560   0.97556   0.196941      0  \n",
              "3  10965.766040  14.852022  6.122162   0.49706   0.155829      0  \n",
              "4  16198.049590  13.666727  8.153058  48.50134   0.096614      1  \n",
              "5   8517.278846  10.981896  0.173229   0.49706  21.978000      0  \n",
              "6   3903.806766  10.777915  4.408484   0.86130   0.065096      0  \n",
              "7  18090.349450  10.342388  6.591896   0.49706   0.092873      0  \n",
              "8   3380.026318  11.450501  4.762291   1.18262   0.073416      0  \n",
              "9   3142.390734  12.329825  0.173229   1.57151  21.978000      0  "
            ],
            "text/html": [
              "\n",
              "  <div id=\"df-da81879b-5675-460a-bc13-4887da205e9f\">\n",
              "    <div class=\"colab-df-container\">\n",
              "      <div>\n",
              "<style scoped>\n",
              "    .dataframe tbody tr th:only-of-type {\n",
              "        vertical-align: middle;\n",
              "    }\n",
              "\n",
              "    .dataframe tbody tr th {\n",
              "        vertical-align: top;\n",
              "    }\n",
              "\n",
              "    .dataframe thead th {\n",
              "        text-align: right;\n",
              "    }\n",
              "</style>\n",
              "<table border=\"1\" class=\"dataframe\">\n",
              "  <thead>\n",
              "    <tr style=\"text-align: right;\">\n",
              "      <th></th>\n",
              "      <th>AB</th>\n",
              "      <th>AF</th>\n",
              "      <th>BC</th>\n",
              "      <th>BQ</th>\n",
              "      <th>CC</th>\n",
              "      <th>CR</th>\n",
              "      <th>DA</th>\n",
              "      <th>DE</th>\n",
              "      <th>DH</th>\n",
              "      <th>DI</th>\n",
              "      <th>DU</th>\n",
              "      <th>EE</th>\n",
              "      <th>EH</th>\n",
              "      <th>FD</th>\n",
              "      <th>FE</th>\n",
              "      <th>FI</th>\n",
              "      <th>FL</th>\n",
              "      <th>FR</th>\n",
              "      <th>GL</th>\n",
              "      <th>Class</th>\n",
              "    </tr>\n",
              "  </thead>\n",
              "  <tbody>\n",
              "    <tr>\n",
              "      <th>0</th>\n",
              "      <td>0.209377</td>\n",
              "      <td>3109.03329</td>\n",
              "      <td>5.555634</td>\n",
              "      <td>152.707705</td>\n",
              "      <td>0.563481</td>\n",
              "      <td>0.069225</td>\n",
              "      <td>69.08340</td>\n",
              "      <td>295.570575</td>\n",
              "      <td>0.284232</td>\n",
              "      <td>89.245560</td>\n",
              "      <td>5.310690</td>\n",
              "      <td>1.987283</td>\n",
              "      <td>0.949104</td>\n",
              "      <td>10.265073</td>\n",
              "      <td>9028.291921</td>\n",
              "      <td>3.583450</td>\n",
              "      <td>7.298162</td>\n",
              "      <td>1.73855</td>\n",
              "      <td>0.120343</td>\n",
              "      <td>1</td>\n",
              "    </tr>\n",
              "    <tr>\n",
              "      <th>1</th>\n",
              "      <td>0.145282</td>\n",
              "      <td>978.76416</td>\n",
              "      <td>1.229900</td>\n",
              "      <td>14.754720</td>\n",
              "      <td>0.484710</td>\n",
              "      <td>1.117800</td>\n",
              "      <td>70.79836</td>\n",
              "      <td>178.553100</td>\n",
              "      <td>0.363489</td>\n",
              "      <td>110.581815</td>\n",
              "      <td>0.005518</td>\n",
              "      <td>0.858603</td>\n",
              "      <td>0.003042</td>\n",
              "      <td>0.296850</td>\n",
              "      <td>6785.003474</td>\n",
              "      <td>10.358927</td>\n",
              "      <td>0.173229</td>\n",
              "      <td>0.49706</td>\n",
              "      <td>21.978000</td>\n",
              "      <td>0</td>\n",
              "    </tr>\n",
              "    <tr>\n",
              "      <th>2</th>\n",
              "      <td>0.470030</td>\n",
              "      <td>2635.10654</td>\n",
              "      <td>1.229900</td>\n",
              "      <td>219.320160</td>\n",
              "      <td>0.495852</td>\n",
              "      <td>0.700350</td>\n",
              "      <td>70.81970</td>\n",
              "      <td>321.426625</td>\n",
              "      <td>0.210441</td>\n",
              "      <td>120.056438</td>\n",
              "      <td>1.289739</td>\n",
              "      <td>8.146651</td>\n",
              "      <td>0.377208</td>\n",
              "      <td>8.745201</td>\n",
              "      <td>8338.906181</td>\n",
              "      <td>11.626917</td>\n",
              "      <td>7.709560</td>\n",
              "      <td>0.97556</td>\n",
              "      <td>0.196941</td>\n",
              "      <td>0</td>\n",
              "    </tr>\n",
              "    <tr>\n",
              "      <th>3</th>\n",
              "      <td>0.252107</td>\n",
              "      <td>3819.65177</td>\n",
              "      <td>1.229900</td>\n",
              "      <td>11.050410</td>\n",
              "      <td>0.717882</td>\n",
              "      <td>0.636075</td>\n",
              "      <td>47.27586</td>\n",
              "      <td>196.607985</td>\n",
              "      <td>0.292431</td>\n",
              "      <td>139.824570</td>\n",
              "      <td>2.655345</td>\n",
              "      <td>3.813326</td>\n",
              "      <td>0.614484</td>\n",
              "      <td>7.884336</td>\n",
              "      <td>10965.766040</td>\n",
              "      <td>14.852022</td>\n",
              "      <td>6.122162</td>\n",
              "      <td>0.49706</td>\n",
              "      <td>0.155829</td>\n",
              "      <td>0</td>\n",
              "    </tr>\n",
              "    <tr>\n",
              "      <th>4</th>\n",
              "      <td>0.380297</td>\n",
              "      <td>3733.04844</td>\n",
              "      <td>102.151980</td>\n",
              "      <td>149.717165</td>\n",
              "      <td>0.536467</td>\n",
              "      <td>0.693150</td>\n",
              "      <td>74.06532</td>\n",
              "      <td>200.178160</td>\n",
              "      <td>0.207708</td>\n",
              "      <td>97.920120</td>\n",
              "      <td>1.144902</td>\n",
              "      <td>3.490846</td>\n",
              "      <td>0.164268</td>\n",
              "      <td>4.274640</td>\n",
              "      <td>16198.049590</td>\n",
              "      <td>13.666727</td>\n",
              "      <td>8.153058</td>\n",
              "      <td>48.50134</td>\n",
              "      <td>0.096614</td>\n",
              "      <td>1</td>\n",
              "    </tr>\n",
              "    <tr>\n",
              "      <th>5</th>\n",
              "      <td>0.209377</td>\n",
              "      <td>2615.81430</td>\n",
              "      <td>1.229900</td>\n",
              "      <td>16.526120</td>\n",
              "      <td>0.639460</td>\n",
              "      <td>0.857625</td>\n",
              "      <td>55.22404</td>\n",
              "      <td>135.489250</td>\n",
              "      <td>0.478275</td>\n",
              "      <td>135.317865</td>\n",
              "      <td>0.005518</td>\n",
              "      <td>2.394414</td>\n",
              "      <td>0.003042</td>\n",
              "      <td>0.296850</td>\n",
              "      <td>8517.278846</td>\n",
              "      <td>10.981896</td>\n",
              "      <td>0.173229</td>\n",
              "      <td>0.49706</td>\n",
              "      <td>21.978000</td>\n",
              "      <td>0</td>\n",
              "    </tr>\n",
              "    <tr>\n",
              "      <th>6</th>\n",
              "      <td>0.348249</td>\n",
              "      <td>1733.65412</td>\n",
              "      <td>1.229900</td>\n",
              "      <td>344.644105</td>\n",
              "      <td>0.946323</td>\n",
              "      <td>0.610950</td>\n",
              "      <td>19.21570</td>\n",
              "      <td>107.907985</td>\n",
              "      <td>0.460510</td>\n",
              "      <td>176.625563</td>\n",
              "      <td>1.006962</td>\n",
              "      <td>2.620150</td>\n",
              "      <td>0.097344</td>\n",
              "      <td>1.460502</td>\n",
              "      <td>3903.806766</td>\n",
              "      <td>10.777915</td>\n",
              "      <td>4.408484</td>\n",
              "      <td>0.86130</td>\n",
              "      <td>0.065096</td>\n",
              "      <td>0</td>\n",
              "    </tr>\n",
              "    <tr>\n",
              "      <th>7</th>\n",
              "      <td>0.269199</td>\n",
              "      <td>966.45483</td>\n",
              "      <td>1.229900</td>\n",
              "      <td>6.199900</td>\n",
              "      <td>0.771909</td>\n",
              "      <td>1.109625</td>\n",
              "      <td>63.21684</td>\n",
              "      <td>326.225295</td>\n",
              "      <td>0.325227</td>\n",
              "      <td>83.769368</td>\n",
              "      <td>2.117379</td>\n",
              "      <td>3.277203</td>\n",
              "      <td>0.292032</td>\n",
              "      <td>4.518057</td>\n",
              "      <td>18090.349450</td>\n",
              "      <td>10.342388</td>\n",
              "      <td>6.591896</td>\n",
              "      <td>0.49706</td>\n",
              "      <td>0.092873</td>\n",
              "      <td>0</td>\n",
              "    </tr>\n",
              "    <tr>\n",
              "      <th>8</th>\n",
              "      <td>0.346113</td>\n",
              "      <td>3238.43674</td>\n",
              "      <td>3.626448</td>\n",
              "      <td>61.642115</td>\n",
              "      <td>0.855496</td>\n",
              "      <td>1.050375</td>\n",
              "      <td>76.77356</td>\n",
              "      <td>231.134460</td>\n",
              "      <td>0.330693</td>\n",
              "      <td>131.349555</td>\n",
              "      <td>0.613833</td>\n",
              "      <td>1.342323</td>\n",
              "      <td>0.066924</td>\n",
              "      <td>1.389258</td>\n",
              "      <td>3380.026318</td>\n",
              "      <td>11.450501</td>\n",
              "      <td>4.762291</td>\n",
              "      <td>1.18262</td>\n",
              "      <td>0.073416</td>\n",
              "      <td>0</td>\n",
              "    </tr>\n",
              "    <tr>\n",
              "      <th>9</th>\n",
              "      <td>0.324748</td>\n",
              "      <td>5188.68207</td>\n",
              "      <td>1.229900</td>\n",
              "      <td>107.276505</td>\n",
              "      <td>0.718271</td>\n",
              "      <td>0.711712</td>\n",
              "      <td>31.17774</td>\n",
              "      <td>403.247940</td>\n",
              "      <td>0.351191</td>\n",
              "      <td>129.175267</td>\n",
              "      <td>0.005518</td>\n",
              "      <td>3.658132</td>\n",
              "      <td>0.003042</td>\n",
              "      <td>0.296850</td>\n",
              "      <td>3142.390734</td>\n",
              "      <td>12.329825</td>\n",
              "      <td>0.173229</td>\n",
              "      <td>1.57151</td>\n",
              "      <td>21.978000</td>\n",
              "      <td>0</td>\n",
              "    </tr>\n",
              "  </tbody>\n",
              "</table>\n",
              "</div>\n",
              "      <button class=\"colab-df-convert\" onclick=\"convertToInteractive('df-da81879b-5675-460a-bc13-4887da205e9f')\"\n",
              "              title=\"Convert this dataframe to an interactive table.\"\n",
              "              style=\"display:none;\">\n",
              "        \n",
              "  <svg xmlns=\"http://www.w3.org/2000/svg\" height=\"24px\"viewBox=\"0 0 24 24\"\n",
              "       width=\"24px\">\n",
              "    <path d=\"M0 0h24v24H0V0z\" fill=\"none\"/>\n",
              "    <path d=\"M18.56 5.44l.94 2.06.94-2.06 2.06-.94-2.06-.94-.94-2.06-.94 2.06-2.06.94zm-11 1L8.5 8.5l.94-2.06 2.06-.94-2.06-.94L8.5 2.5l-.94 2.06-2.06.94zm10 10l.94 2.06.94-2.06 2.06-.94-2.06-.94-.94-2.06-.94 2.06-2.06.94z\"/><path d=\"M17.41 7.96l-1.37-1.37c-.4-.4-.92-.59-1.43-.59-.52 0-1.04.2-1.43.59L10.3 9.45l-7.72 7.72c-.78.78-.78 2.05 0 2.83L4 21.41c.39.39.9.59 1.41.59.51 0 1.02-.2 1.41-.59l7.78-7.78 2.81-2.81c.8-.78.8-2.07 0-2.86zM5.41 20L4 18.59l7.72-7.72 1.47 1.35L5.41 20z\"/>\n",
              "  </svg>\n",
              "      </button>\n",
              "      \n",
              "  <style>\n",
              "    .colab-df-container {\n",
              "      display:flex;\n",
              "      flex-wrap:wrap;\n",
              "      gap: 12px;\n",
              "    }\n",
              "\n",
              "    .colab-df-convert {\n",
              "      background-color: #E8F0FE;\n",
              "      border: none;\n",
              "      border-radius: 50%;\n",
              "      cursor: pointer;\n",
              "      display: none;\n",
              "      fill: #1967D2;\n",
              "      height: 32px;\n",
              "      padding: 0 0 0 0;\n",
              "      width: 32px;\n",
              "    }\n",
              "\n",
              "    .colab-df-convert:hover {\n",
              "      background-color: #E2EBFA;\n",
              "      box-shadow: 0px 1px 2px rgba(60, 64, 67, 0.3), 0px 1px 3px 1px rgba(60, 64, 67, 0.15);\n",
              "      fill: #174EA6;\n",
              "    }\n",
              "\n",
              "    [theme=dark] .colab-df-convert {\n",
              "      background-color: #3B4455;\n",
              "      fill: #D2E3FC;\n",
              "    }\n",
              "\n",
              "    [theme=dark] .colab-df-convert:hover {\n",
              "      background-color: #434B5C;\n",
              "      box-shadow: 0px 1px 3px 1px rgba(0, 0, 0, 0.15);\n",
              "      filter: drop-shadow(0px 1px 2px rgba(0, 0, 0, 0.3));\n",
              "      fill: #FFFFFF;\n",
              "    }\n",
              "  </style>\n",
              "\n",
              "      <script>\n",
              "        const buttonEl =\n",
              "          document.querySelector('#df-da81879b-5675-460a-bc13-4887da205e9f button.colab-df-convert');\n",
              "        buttonEl.style.display =\n",
              "          google.colab.kernel.accessAllowed ? 'block' : 'none';\n",
              "\n",
              "        async function convertToInteractive(key) {\n",
              "          const element = document.querySelector('#df-da81879b-5675-460a-bc13-4887da205e9f');\n",
              "          const dataTable =\n",
              "            await google.colab.kernel.invokeFunction('convertToInteractive',\n",
              "                                                     [key], {});\n",
              "          if (!dataTable) return;\n",
              "\n",
              "          const docLinkHtml = 'Like what you see? Visit the ' +\n",
              "            '<a target=\"_blank\" href=https://colab.research.google.com/notebooks/data_table.ipynb>data table notebook</a>'\n",
              "            + ' to learn more about interactive tables.';\n",
              "          element.innerHTML = '';\n",
              "          dataTable['output_type'] = 'display_data';\n",
              "          await google.colab.output.renderOutput(dataTable, element);\n",
              "          const docLink = document.createElement('div');\n",
              "          docLink.innerHTML = docLinkHtml;\n",
              "          element.appendChild(docLink);\n",
              "        }\n",
              "      </script>\n",
              "    </div>\n",
              "  </div>\n",
              "  "
            ]
          },
          "metadata": {},
          "execution_count": 2
        }
      ]
    },
    {
      "cell_type": "code",
      "source": [
        "X_train = df[:-1].values\n",
        "y_train = df['Class']"
      ],
      "metadata": {
        "id": "vkJeErg5tiE1"
      },
      "execution_count": 3,
      "outputs": []
    },
    {
      "cell_type": "code",
      "source": [
        "import h2o\n",
        "from h2o.estimators.gbm import H2OGradientBoostingEstimator\n",
        "h2o.init()"
      ],
      "metadata": {
        "id": "q2ulR4uI4Ykd",
        "colab": {
          "base_uri": "https://localhost:8080/",
          "height": 544
        },
        "outputId": "a3aea7a7-af37-4f2a-9ee6-2494a14ad90e"
      },
      "execution_count": 8,
      "outputs": [
        {
          "output_type": "stream",
          "name": "stdout",
          "text": [
            "Checking whether there is an H2O instance running at http://localhost:54321..... not found.\n",
            "Attempting to start a local H2O server...\n",
            "  Java Version: openjdk version \"11.0.19\" 2023-04-18; OpenJDK Runtime Environment (build 11.0.19+7-post-Ubuntu-0ubuntu120.04.1); OpenJDK 64-Bit Server VM (build 11.0.19+7-post-Ubuntu-0ubuntu120.04.1, mixed mode, sharing)\n",
            "  Starting server from /usr/local/lib/python3.10/dist-packages/h2o/backend/bin/h2o.jar\n",
            "  Ice root: /tmp/tmp74v8ffic\n",
            "  JVM stdout: /tmp/tmp74v8ffic/h2o_unknownUser_started_from_python.out\n",
            "  JVM stderr: /tmp/tmp74v8ffic/h2o_unknownUser_started_from_python.err\n",
            "  Server is running at http://127.0.0.1:54321\n",
            "Connecting to H2O server at http://127.0.0.1:54321 ... successful.\n"
          ]
        },
        {
          "output_type": "display_data",
          "data": {
            "text/plain": [
              "--------------------------  -----------------------------------------------------------------------------------------\n",
              "H2O_cluster_uptime:         04 secs\n",
              "H2O_cluster_timezone:       Etc/UTC\n",
              "H2O_data_parsing_timezone:  UTC\n",
              "H2O_cluster_version:        3.40.0.4\n",
              "H2O_cluster_version_age:    25 days\n",
              "H2O_cluster_name:           H2O_from_python_unknownUser_42v2ef\n",
              "H2O_cluster_total_nodes:    1\n",
              "H2O_cluster_free_memory:    3.170 Gb\n",
              "H2O_cluster_total_cores:    2\n",
              "H2O_cluster_allowed_cores:  2\n",
              "H2O_cluster_status:         locked, healthy\n",
              "H2O_connection_url:         http://127.0.0.1:54321\n",
              "H2O_connection_proxy:       {\"http\": null, \"https\": null, \"colab_language_server\": \"/usr/colab/bin/language_service\"}\n",
              "H2O_internal_security:      False\n",
              "Python_version:             3.10.11 final\n",
              "--------------------------  -----------------------------------------------------------------------------------------"
            ],
            "text/html": [
              "\n",
              "<style>\n",
              "\n",
              "#h2o-table-1.h2o-container {\n",
              "  overflow-x: auto;\n",
              "}\n",
              "#h2o-table-1 .h2o-table {\n",
              "  /* width: 100%; */\n",
              "  margin-top: 1em;\n",
              "  margin-bottom: 1em;\n",
              "}\n",
              "#h2o-table-1 .h2o-table caption {\n",
              "  white-space: nowrap;\n",
              "  caption-side: top;\n",
              "  text-align: left;\n",
              "  /* margin-left: 1em; */\n",
              "  margin: 0;\n",
              "  font-size: larger;\n",
              "}\n",
              "#h2o-table-1 .h2o-table thead {\n",
              "  white-space: nowrap; \n",
              "  position: sticky;\n",
              "  top: 0;\n",
              "  box-shadow: 0 -1px inset;\n",
              "}\n",
              "#h2o-table-1 .h2o-table tbody {\n",
              "  overflow: auto;\n",
              "}\n",
              "#h2o-table-1 .h2o-table th,\n",
              "#h2o-table-1 .h2o-table td {\n",
              "  text-align: right;\n",
              "  /* border: 1px solid; */\n",
              "}\n",
              "#h2o-table-1 .h2o-table tr:nth-child(even) {\n",
              "  /* background: #F5F5F5 */\n",
              "}\n",
              "\n",
              "</style>      \n",
              "<div id=\"h2o-table-1\" class=\"h2o-container\">\n",
              "  <table class=\"h2o-table\">\n",
              "    <caption></caption>\n",
              "    <thead></thead>\n",
              "    <tbody><tr><td>H2O_cluster_uptime:</td>\n",
              "<td>04 secs</td></tr>\n",
              "<tr><td>H2O_cluster_timezone:</td>\n",
              "<td>Etc/UTC</td></tr>\n",
              "<tr><td>H2O_data_parsing_timezone:</td>\n",
              "<td>UTC</td></tr>\n",
              "<tr><td>H2O_cluster_version:</td>\n",
              "<td>3.40.0.4</td></tr>\n",
              "<tr><td>H2O_cluster_version_age:</td>\n",
              "<td>25 days</td></tr>\n",
              "<tr><td>H2O_cluster_name:</td>\n",
              "<td>H2O_from_python_unknownUser_42v2ef</td></tr>\n",
              "<tr><td>H2O_cluster_total_nodes:</td>\n",
              "<td>1</td></tr>\n",
              "<tr><td>H2O_cluster_free_memory:</td>\n",
              "<td>3.170 Gb</td></tr>\n",
              "<tr><td>H2O_cluster_total_cores:</td>\n",
              "<td>2</td></tr>\n",
              "<tr><td>H2O_cluster_allowed_cores:</td>\n",
              "<td>2</td></tr>\n",
              "<tr><td>H2O_cluster_status:</td>\n",
              "<td>locked, healthy</td></tr>\n",
              "<tr><td>H2O_connection_url:</td>\n",
              "<td>http://127.0.0.1:54321</td></tr>\n",
              "<tr><td>H2O_connection_proxy:</td>\n",
              "<td>{\"http\": null, \"https\": null, \"colab_language_server\": \"/usr/colab/bin/language_service\"}</td></tr>\n",
              "<tr><td>H2O_internal_security:</td>\n",
              "<td>False</td></tr>\n",
              "<tr><td>Python_version:</td>\n",
              "<td>3.10.11 final</td></tr></tbody>\n",
              "  </table>\n",
              "</div>\n"
            ]
          },
          "metadata": {}
        }
      ]
    },
    {
      "cell_type": "code",
      "source": [
        "health = h2o.H2OFrame(df)"
      ],
      "metadata": {
        "id": "fXXaudn46yce",
        "outputId": "8f7cf23d-da64-452c-ba5e-337bdc8140e8",
        "colab": {
          "base_uri": "https://localhost:8080/"
        }
      },
      "execution_count": 11,
      "outputs": [
        {
          "output_type": "stream",
          "name": "stdout",
          "text": [
            "Parse progress: |████████████████████████████████████████████████████████████████| (done) 100%\n"
          ]
        }
      ]
    },
    {
      "cell_type": "code",
      "source": [
        "# set the predictor names and the response column name\n",
        "predictors = ['AB', 'AF', 'BC', 'BQ', 'CC', 'CR',\n",
        "              'DA', 'DE', 'DH', 'DI', 'DU', 'EE',\n",
        "              'EH', 'FD ', 'FE', 'FI', 'FL', 'FR', 'GL']\n",
        "response = \"Class\"\n",
        "\n",
        "# split into train and validation sets\n",
        "train, valid = health.split_frame(ratios = [.90], seed = 1234)\n",
        "\n",
        "# train your model\n",
        "health_gbm = H2OGradientBoostingEstimator (distribution=\"gaussian\",   sample_rate = .7, seed = 1234)\n",
        "health_gbm.train(x = predictors,\n",
        "                   y = response,\n",
        "                   training_frame = train,\n",
        "                   validation_frame = valid)\n",
        "\n",
        "# retrieve the model performance\n",
        "perf = health_gbm.model_performance(valid)\n",
        "perf"
      ],
      "metadata": {
        "colab": {
          "base_uri": "https://localhost:8080/",
          "height": 256
        },
        "id": "xjP25lgo5ozy",
        "outputId": "03805b6a-344c-4adb-b1ab-edce81ae554f"
      },
      "execution_count": 16,
      "outputs": [
        {
          "output_type": "stream",
          "name": "stdout",
          "text": [
            "gbm Model Build progress: |"
          ]
        },
        {
          "output_type": "stream",
          "name": "stderr",
          "text": [
            "/usr/local/lib/python3.10/dist-packages/h2o/estimators/estimator_base.py:193: RuntimeWarning: We have detected that your response column has only 2 unique values (0/1). If you wish to train a binary model instead of a regression model, convert your target column to categorical before training.\n",
            "  warnings.warn(mesg[\"message\"], RuntimeWarning)\n"
          ]
        },
        {
          "output_type": "stream",
          "name": "stdout",
          "text": [
            "██████████████████████████████████████████████████████| (done) 100%\n"
          ]
        },
        {
          "output_type": "execute_result",
          "data": {
            "text/plain": [
              "ModelMetricsRegression: gbm\n",
              "** Reported on test data. **\n",
              "\n",
              "MSE: 0.0593700426248309\n",
              "RMSE: 0.24365968608867347\n",
              "MAE: 0.1429988892009951\n",
              "RMSLE: 0.17619898688561947\n",
              "Mean Residual Deviance: 0.0593700426248309"
            ],
            "text/html": [
              "<pre style='margin: 1em 0 1em 0;'>ModelMetricsRegression: gbm\n",
              "** Reported on test data. **\n",
              "\n",
              "MSE: 0.0593700426248309\n",
              "RMSE: 0.24365968608867347\n",
              "MAE: 0.1429988892009951\n",
              "RMSLE: 0.17619898688561947\n",
              "Mean Residual Deviance: 0.0593700426248309</pre>"
            ]
          },
          "metadata": {},
          "execution_count": 16
        }
      ]
    },
    {
      "cell_type": "code",
      "source": [
        "\n"
      ],
      "metadata": {
        "outputId": "f1013579-355d-498b-a6ed-3889c7960303",
        "colab": {
          "base_uri": "https://localhost:8080/",
          "height": 311
        },
        "id": "wwY3-Jzh58aZ"
      },
      "execution_count": 15,
      "outputs": [
        {
          "output_type": "error",
          "ename": "AttributeError",
          "evalue": "ignored",
          "traceback": [
            "\u001b[0;31m---------------------------------------------------------------------------\u001b[0m",
            "\u001b[0;31mAttributeError\u001b[0m                            Traceback (most recent call last)",
            "\u001b[0;32m<ipython-input-15-30e83cfcef85>\u001b[0m in \u001b[0;36m<cell line: 1>\u001b[0;34m()\u001b[0m\n\u001b[0;32m----> 1\u001b[0;31m \u001b[0mperf\u001b[0m\u001b[0;34m.\u001b[0m\u001b[0mmcc\u001b[0m\u001b[0;34m(\u001b[0m\u001b[0;34m)\u001b[0m\u001b[0;34m\u001b[0m\u001b[0;34m\u001b[0m\u001b[0m\n\u001b[0m",
            "\u001b[0;32m/usr/local/lib/python3.10/dist-packages/h2o/utils/metaclass.py\u001b[0m in \u001b[0;36m__getattr__\u001b[0;34m(self, name)\u001b[0m\n\u001b[1;32m    343\u001b[0m             \u001b[0;32mif\u001b[0m \u001b[0mname\u001b[0m \u001b[0;32min\u001b[0m \u001b[0mself\u001b[0m\u001b[0;34m.\u001b[0m\u001b[0m_bci\u001b[0m\u001b[0;34m:\u001b[0m\u001b[0;34m\u001b[0m\u001b[0;34m\u001b[0m\u001b[0m\n\u001b[1;32m    344\u001b[0m                 \u001b[0;32mreturn\u001b[0m \u001b[0mself\u001b[0m\u001b[0;34m.\u001b[0m\u001b[0m_bci\u001b[0m\u001b[0;34m[\u001b[0m\u001b[0mname\u001b[0m\u001b[0;34m]\u001b[0m\u001b[0;34m\u001b[0m\u001b[0;34m\u001b[0m\u001b[0m\n\u001b[0;32m--> 345\u001b[0;31m             \u001b[0;32mreturn\u001b[0m \u001b[0mgetattr\u001b[0m\u001b[0;34m(\u001b[0m\u001b[0mnew_clz\u001b[0m\u001b[0;34m,\u001b[0m \u001b[0mname\u001b[0m\u001b[0;34m)\u001b[0m\u001b[0;34m\u001b[0m\u001b[0;34m\u001b[0m\u001b[0m\n\u001b[0m\u001b[1;32m    346\u001b[0m \u001b[0;34m\u001b[0m\u001b[0m\n\u001b[1;32m    347\u001b[0m         \u001b[0mnew_clz\u001b[0m \u001b[0;34m=\u001b[0m \u001b[0mextend_and_replace\u001b[0m\u001b[0;34m(\u001b[0m\u001b[0mclz\u001b[0m\u001b[0;34m,\u001b[0m \u001b[0m__init__\u001b[0m\u001b[0;34m=\u001b[0m\u001b[0m__init__\u001b[0m\u001b[0;34m,\u001b[0m \u001b[0m__getattr__\u001b[0m\u001b[0;34m=\u001b[0m\u001b[0m__getattr__\u001b[0m\u001b[0;34m)\u001b[0m\u001b[0;34m\u001b[0m\u001b[0;34m\u001b[0m\u001b[0m\n",
            "\u001b[0;32m/usr/local/lib/python3.10/dist-packages/h2o/utils/metaclass.py\u001b[0m in \u001b[0;36m__getattribute__\u001b[0;34m(cls, name)\u001b[0m\n\u001b[1;32m    388\u001b[0m             \u001b[0;32mif\u001b[0m \u001b[0mattr\u001b[0m \u001b[0;32mis\u001b[0m \u001b[0;32mnot\u001b[0m \u001b[0mMetaFeature\u001b[0m\u001b[0;34m.\u001b[0m\u001b[0mNOT_FOUND\u001b[0m\u001b[0;34m:\u001b[0m\u001b[0;34m\u001b[0m\u001b[0;34m\u001b[0m\u001b[0m\n\u001b[1;32m    389\u001b[0m                 \u001b[0;32mreturn\u001b[0m \u001b[0mattr\u001b[0m\u001b[0;34m\u001b[0m\u001b[0;34m\u001b[0m\u001b[0m\n\u001b[0;32m--> 390\u001b[0;31m         \u001b[0;32mreturn\u001b[0m \u001b[0mtype\u001b[0m\u001b[0;34m.\u001b[0m\u001b[0m__getattribute__\u001b[0m\u001b[0;34m(\u001b[0m\u001b[0mcls\u001b[0m\u001b[0;34m,\u001b[0m \u001b[0mname\u001b[0m\u001b[0;34m)\u001b[0m\u001b[0;34m\u001b[0m\u001b[0;34m\u001b[0m\u001b[0m\n\u001b[0m\u001b[1;32m    391\u001b[0m \u001b[0;34m\u001b[0m\u001b[0m\n\u001b[1;32m    392\u001b[0m     \u001b[0;32mdef\u001b[0m \u001b[0m__setattr__\u001b[0m\u001b[0;34m(\u001b[0m\u001b[0mcls\u001b[0m\u001b[0;34m,\u001b[0m \u001b[0mname\u001b[0m\u001b[0;34m,\u001b[0m \u001b[0mvalue\u001b[0m\u001b[0;34m)\u001b[0m\u001b[0;34m:\u001b[0m\u001b[0;34m\u001b[0m\u001b[0;34m\u001b[0m\u001b[0m\n",
            "\u001b[0;31mAttributeError\u001b[0m: type object 'MetricsBase' has no attribute 'mcc'"
          ]
        }
      ]
    }
  ]
}